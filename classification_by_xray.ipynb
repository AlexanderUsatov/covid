{
 "cells": [
  {
   "cell_type": "code",
   "execution_count": 1,
   "metadata": {},
   "outputs": [],
   "source": [
    "import numpy as np\n",
    "import pandas as pd\n",
    "import os\n",
    "import skimage\n",
    "import skimage.io as io\n",
    "from skimage.transform import rescale, resize\n",
    "from collections import namedtuple\n",
    "from collections import Counter\n",
    "import tensorflow as tf\n",
    "\n",
    "pd.options.display.max_seq_items = None"
   ]
  },
  {
   "cell_type": "code",
   "execution_count": 2,
   "metadata": {},
   "outputs": [],
   "source": [
    "IMG_W = 256\n",
    "IMG_H = 256\n",
    "CHANNELS = 1\n",
    "\n",
    "INPUT_SHAPE = (IMG_W, IMG_H, CHANNELS)\n",
    "NB_CLASSES = 2\n",
    "EPOCHS = 50\n",
    "BATCH_SIZE = 20"
   ]
  },
  {
   "cell_type": "code",
   "execution_count": 3,
   "metadata": {},
   "outputs": [],
   "source": [
    "from tensorflow.keras import backend as K\n",
    "from tensorflow.keras.preprocessing.image import ImageDataGenerator,load_img, img_to_array\n",
    "from tensorflow.keras.models import Sequential, Model\n",
    "from tensorflow.keras.layers import Conv2D, MaxPooling2D,GlobalAveragePooling2D\n",
    "from tensorflow.keras.layers import Activation, Dropout, BatchNormalization, Flatten, Dense, AvgPool2D,MaxPool2D\n",
    "from tensorflow.keras.models import Sequential, Model\n",
    "from tensorflow.keras.applications.vgg16 import VGG16, preprocess_input\n",
    "from tensorflow.keras.optimizers import Adam, SGD, RMSprop"
   ]
  },
  {
   "cell_type": "code",
   "execution_count": 4,
   "metadata": {},
   "outputs": [],
   "source": [
    "physical_devices = tf.config.list_physical_devices('GPU')\n",
    "tf.config.experimental.set_memory_growth(physical_devices[0], True)"
   ]
  },
  {
   "cell_type": "code",
   "execution_count": 5,
   "metadata": {},
   "outputs": [],
   "source": [
    "model = Sequential()\n",
    "model.add(Conv2D(32, (3, 3), input_shape=INPUT_SHAPE))\n",
    "model.add(Activation('elu'))\n",
    "model.add(MaxPooling2D(pool_size=(2, 2)))\n",
    "\n",
    "model.add(Conv2D(32, (3, 3)))\n",
    "model.add(Activation('elu'))\n",
    "model.add(MaxPooling2D(pool_size=(2, 2)))\n",
    "\n",
    "\n",
    "model.add(Conv2D(64,(3,3)))\n",
    "model.add(Activation(\"elu\"))\n",
    "model.add(Conv2D(250,(3,3)))\n",
    "model.add(Activation(\"elu\"))\n",
    "  \n",
    "model.add(Conv2D(128,(3,3)))\n",
    "model.add(Activation(\"elu\"))\n",
    "model.add(MaxPooling2D(2,2))\n",
    "model.add(Conv2D(64,(3,3)))\n",
    "model.add(Activation(\"elu\"))\n",
    "model.add(MaxPooling2D(2,2))\n",
    "\n",
    "model.add(Conv2D(256,(2,2)))\n",
    "model.add(Activation(\"elu\"))\n",
    "model.add(MaxPool2D(2,2))\n",
    "    \n",
    "model.add(Flatten())\n",
    "model.add(Dense(32))\n",
    "model.add(Dropout(0.25))\n",
    "model.add(Dense(1))\n",
    "model.add(Activation(\"sigmoid\"))"
   ]
  },
  {
   "cell_type": "code",
   "execution_count": 6,
   "metadata": {},
   "outputs": [],
   "source": [
    "model.compile(\n",
    "    loss='binary_crossentropy',\n",
    "    optimizer='adam',\n",
    "    metrics=[\"binary_crossentropy\", 'accuracy']\n",
    ")"
   ]
  },
  {
   "cell_type": "code",
   "execution_count": 7,
   "metadata": {},
   "outputs": [
    {
     "name": "stdout",
     "output_type": "stream",
     "text": [
      "Model: \"sequential\"\n",
      "_________________________________________________________________\n",
      "Layer (type)                 Output Shape              Param #   \n",
      "=================================================================\n",
      "conv2d (Conv2D)              (None, 254, 254, 32)      320       \n",
      "_________________________________________________________________\n",
      "activation (Activation)      (None, 254, 254, 32)      0         \n",
      "_________________________________________________________________\n",
      "max_pooling2d (MaxPooling2D) (None, 127, 127, 32)      0         \n",
      "_________________________________________________________________\n",
      "conv2d_1 (Conv2D)            (None, 125, 125, 32)      9248      \n",
      "_________________________________________________________________\n",
      "activation_1 (Activation)    (None, 125, 125, 32)      0         \n",
      "_________________________________________________________________\n",
      "max_pooling2d_1 (MaxPooling2 (None, 62, 62, 32)        0         \n",
      "_________________________________________________________________\n",
      "conv2d_2 (Conv2D)            (None, 60, 60, 64)        18496     \n",
      "_________________________________________________________________\n",
      "activation_2 (Activation)    (None, 60, 60, 64)        0         \n",
      "_________________________________________________________________\n",
      "conv2d_3 (Conv2D)            (None, 58, 58, 250)       144250    \n",
      "_________________________________________________________________\n",
      "activation_3 (Activation)    (None, 58, 58, 250)       0         \n",
      "_________________________________________________________________\n",
      "conv2d_4 (Conv2D)            (None, 56, 56, 128)       288128    \n",
      "_________________________________________________________________\n",
      "activation_4 (Activation)    (None, 56, 56, 128)       0         \n",
      "_________________________________________________________________\n",
      "max_pooling2d_2 (MaxPooling2 (None, 28, 28, 128)       0         \n",
      "_________________________________________________________________\n",
      "conv2d_5 (Conv2D)            (None, 26, 26, 64)        73792     \n",
      "_________________________________________________________________\n",
      "activation_5 (Activation)    (None, 26, 26, 64)        0         \n",
      "_________________________________________________________________\n",
      "max_pooling2d_3 (MaxPooling2 (None, 13, 13, 64)        0         \n",
      "_________________________________________________________________\n",
      "conv2d_6 (Conv2D)            (None, 12, 12, 256)       65792     \n",
      "_________________________________________________________________\n",
      "activation_6 (Activation)    (None, 12, 12, 256)       0         \n",
      "_________________________________________________________________\n",
      "max_pooling2d_4 (MaxPooling2 (None, 6, 6, 256)         0         \n",
      "_________________________________________________________________\n",
      "flatten (Flatten)            (None, 9216)              0         \n",
      "_________________________________________________________________\n",
      "dense (Dense)                (None, 32)                294944    \n",
      "_________________________________________________________________\n",
      "dropout (Dropout)            (None, 32)                0         \n",
      "_________________________________________________________________\n",
      "dense_1 (Dense)              (None, 1)                 33        \n",
      "_________________________________________________________________\n",
      "activation_7 (Activation)    (None, 1)                 0         \n",
      "=================================================================\n",
      "Total params: 895,003\n",
      "Trainable params: 895,003\n",
      "Non-trainable params: 0\n",
      "_________________________________________________________________\n"
     ]
    }
   ],
   "source": [
    "model.summary()"
   ]
  },
  {
   "cell_type": "code",
   "execution_count": 8,
   "metadata": {},
   "outputs": [],
   "source": [
    "temp = []\n",
    "for root, dirs, files in os.walk(r\"C:\\Users\\Lenovo\\OneDrive\\data\\covid\\images\\resized256x256\\images\"):\n",
    "    for file in files:\n",
    "        temp.append(\n",
    "            (\n",
    "                int(file.split(\".\")[0]),\n",
    "                io.imread(os.path.join(root, file), as_gray=True)\n",
    "            )\n",
    "        )\n",
    "        if temp[-1][1].max() > 1:\n",
    "            temp[-1] = (temp[-1][0], temp[-1][1]/255)"
   ]
  },
  {
   "cell_type": "code",
   "execution_count": 9,
   "metadata": {},
   "outputs": [],
   "source": [
    "temp.sort(key=lambda x: x[0])"
   ]
  },
  {
   "cell_type": "code",
   "execution_count": 10,
   "metadata": {},
   "outputs": [],
   "source": [
    "X = np.array([i[1] for i in temp])"
   ]
  },
  {
   "cell_type": "code",
   "execution_count": 11,
   "metadata": {},
   "outputs": [],
   "source": [
    "temp = pd.read_csv(r\"C:\\Users\\Lenovo\\OneDrive\\data\\covid\\images\\resized256x256\\data.tsv\",sep=\"\\t\")"
   ]
  },
  {
   "cell_type": "code",
   "execution_count": 12,
   "metadata": {},
   "outputs": [],
   "source": [
    "y = np.array(temp.finding)"
   ]
  },
  {
   "cell_type": "code",
   "execution_count": 13,
   "metadata": {},
   "outputs": [
    {
     "data": {
      "text/plain": [
       "Counter({True: 552, False: 357})"
      ]
     },
     "execution_count": 13,
     "metadata": {},
     "output_type": "execute_result"
    }
   ],
   "source": [
    "Counter(y)"
   ]
  },
  {
   "cell_type": "code",
   "execution_count": 14,
   "metadata": {},
   "outputs": [],
   "source": [
    "from sklearn.model_selection import train_test_split\n",
    "\n",
    "X_train, X_test, y_train, y_test = train_test_split(X, y, test_size=0.2, random_state=42)"
   ]
  },
  {
   "cell_type": "code",
   "execution_count": 15,
   "metadata": {},
   "outputs": [],
   "source": [
    "X_train = (tf.expand_dims(X_train, axis=-1))\n",
    "X_test = (tf.expand_dims(X_test, axis=-1))"
   ]
  },
  {
   "cell_type": "code",
   "execution_count": 16,
   "metadata": {},
   "outputs": [],
   "source": [
    "tf.config.run_functions_eagerly(True)"
   ]
  },
  {
   "cell_type": "code",
   "execution_count": 17,
   "metadata": {},
   "outputs": [
    {
     "name": "stdout",
     "output_type": "stream",
     "text": [
      "Num GPUs Available:  1\n"
     ]
    }
   ],
   "source": [
    "print(\"Num GPUs Available: \", len(tf.config.experimental.list_physical_devices('GPU')))"
   ]
  },
  {
   "cell_type": "code",
   "execution_count": 18,
   "metadata": {
    "scrolled": false
   },
   "outputs": [
    {
     "name": "stderr",
     "output_type": "stream",
     "text": [
      "C:\\Users\\Lenovo\\anaconda3\\envs\\tf-gpu-cuda8\\lib\\site-packages\\tensorflow\\python\\data\\ops\\dataset_ops.py:3503: UserWarning: Even though the tf.config.experimental_run_functions_eagerly option is set, this option does not apply to tf.data functions. tf.data functions are still traced and executed as graphs.\n",
      "  warnings.warn(\n"
     ]
    },
    {
     "name": "stdout",
     "output_type": "stream",
     "text": [
      "Epoch 1/50\n",
      "37/37 [==============================] - 14s 268ms/step - loss: 2.0360 - binary_crossentropy: 1.3421 - accuracy: 0.5786 - val_loss: 0.6275 - val_binary_crossentropy: 0.6275 - val_accuracy: 0.6703\n",
      "Epoch 2/50\n",
      "37/37 [==============================] - 8s 222ms/step - loss: 0.8832 - binary_crossentropy: 0.7143 - accuracy: 0.6068 - val_loss: 0.6299 - val_binary_crossentropy: 0.6299 - val_accuracy: 0.6703\n",
      "Epoch 3/50\n",
      "37/37 [==============================] - 8s 220ms/step - loss: 0.9306 - binary_crossentropy: 0.7240 - accuracy: 0.5587 - val_loss: 0.6522 - val_binary_crossentropy: 0.6522 - val_accuracy: 0.6703\n",
      "Epoch 4/50\n",
      "37/37 [==============================] - 8s 220ms/step - loss: 0.8426 - binary_crossentropy: 0.6890 - accuracy: 0.6232 - val_loss: 0.6354 - val_binary_crossentropy: 0.6354 - val_accuracy: 0.6703\n",
      "Epoch 5/50\n",
      "37/37 [==============================] - 8s 220ms/step - loss: 0.8602 - binary_crossentropy: 0.6972 - accuracy: 0.6149 - val_loss: 0.5915 - val_binary_crossentropy: 0.5915 - val_accuracy: 0.6703\n",
      "Epoch 6/50\n",
      "37/37 [==============================] - 8s 220ms/step - loss: 0.9021 - binary_crossentropy: 0.7262 - accuracy: 0.5491 - val_loss: 0.6121 - val_binary_crossentropy: 0.6121 - val_accuracy: 0.6703\n",
      "Epoch 7/50\n",
      "37/37 [==============================] - 8s 222ms/step - loss: 0.8525 - binary_crossentropy: 0.6939 - accuracy: 0.6038 - val_loss: 0.5953 - val_binary_crossentropy: 0.5953 - val_accuracy: 0.6813\n",
      "Epoch 8/50\n",
      "37/37 [==============================] - 8s 221ms/step - loss: 0.7991 - binary_crossentropy: 0.6505 - accuracy: 0.6440 - val_loss: 0.5533 - val_binary_crossentropy: 0.5533 - val_accuracy: 0.6923\n",
      "Epoch 9/50\n",
      "37/37 [==============================] - 7s 201ms/step - loss: 0.8128 - binary_crossentropy: 0.6515 - accuracy: 0.6593 - val_loss: 0.5674 - val_binary_crossentropy: 0.5674 - val_accuracy: 0.7033\n",
      "Epoch 10/50\n",
      "37/37 [==============================] - 8s 217ms/step - loss: 0.7899 - binary_crossentropy: 0.6412 - accuracy: 0.6806 - val_loss: 0.5727 - val_binary_crossentropy: 0.5727 - val_accuracy: 0.6648\n",
      "Epoch 11/50\n",
      "37/37 [==============================] - 8s 222ms/step - loss: 0.7082 - binary_crossentropy: 0.5380 - accuracy: 0.7450 - val_loss: 0.7555 - val_binary_crossentropy: 0.7555 - val_accuracy: 0.6703\n",
      "Epoch 12/50\n",
      "37/37 [==============================] - 8s 221ms/step - loss: 0.7151 - binary_crossentropy: 0.5890 - accuracy: 0.6964 - val_loss: 0.6141 - val_binary_crossentropy: 0.6141 - val_accuracy: 0.6813\n",
      "Epoch 13/50\n",
      "37/37 [==============================] - 8s 222ms/step - loss: 1.1191 - binary_crossentropy: 0.8093 - accuracy: 0.7016 - val_loss: 13.5216 - val_binary_crossentropy: 13.5216 - val_accuracy: 0.3297\n",
      "Epoch 14/50\n",
      "37/37 [==============================] - 8s 221ms/step - loss: 25.7128 - binary_crossentropy: 18.5465 - accuracy: 0.4660 - val_loss: 4.9265 - val_binary_crossentropy: 4.9265 - val_accuracy: 0.6703\n",
      "Epoch 15/50\n",
      "37/37 [==============================] - 8s 223ms/step - loss: 12.3514 - binary_crossentropy: 11.1155 - accuracy: 0.5652 - val_loss: 1.0984 - val_binary_crossentropy: 1.0984 - val_accuracy: 0.6703\n",
      "Epoch 16/50\n",
      "37/37 [==============================] - 8s 221ms/step - loss: 1.4733 - binary_crossentropy: 1.2072 - accuracy: 0.5974 - val_loss: 0.9552 - val_binary_crossentropy: 0.9552 - val_accuracy: 0.6648\n",
      "Epoch 17/50\n",
      "37/37 [==============================] - 8s 216ms/step - loss: 1.0876 - binary_crossentropy: 0.9020 - accuracy: 0.6204 - val_loss: 0.6004 - val_binary_crossentropy: 0.6004 - val_accuracy: 0.6978\n",
      "Epoch 18/50\n",
      "37/37 [==============================] - 7s 183ms/step - loss: 0.6709 - binary_crossentropy: 0.5095 - accuracy: 0.7585 - val_loss: 0.5954 - val_binary_crossentropy: 0.5954 - val_accuracy: 0.7033\n",
      "Epoch 19/50\n",
      "37/37 [==============================] - 7s 182ms/step - loss: 0.7374 - binary_crossentropy: 0.6003 - accuracy: 0.6931 - val_loss: 0.5948 - val_binary_crossentropy: 0.5948 - val_accuracy: 0.7308\n",
      "Epoch 20/50\n",
      "37/37 [==============================] - 7s 182ms/step - loss: 0.6184 - binary_crossentropy: 0.4689 - accuracy: 0.7684 - val_loss: 0.6045 - val_binary_crossentropy: 0.6045 - val_accuracy: 0.7418\n",
      "Epoch 21/50\n",
      "37/37 [==============================] - 7s 183ms/step - loss: 0.5669 - binary_crossentropy: 0.4402 - accuracy: 0.7796 - val_loss: 0.6004 - val_binary_crossentropy: 0.6004 - val_accuracy: 0.7418\n",
      "Epoch 22/50\n",
      "37/37 [==============================] - 7s 183ms/step - loss: 0.5565 - binary_crossentropy: 0.4318 - accuracy: 0.8020 - val_loss: 0.6878 - val_binary_crossentropy: 0.6878 - val_accuracy: 0.7033\n",
      "Epoch 23/50\n",
      "37/37 [==============================] - 7s 182ms/step - loss: 0.5368 - binary_crossentropy: 0.4060 - accuracy: 0.8234 - val_loss: 0.6549 - val_binary_crossentropy: 0.6549 - val_accuracy: 0.7308\n",
      "Epoch 24/50\n",
      "37/37 [==============================] - 7s 182ms/step - loss: 0.4543 - binary_crossentropy: 0.3618 - accuracy: 0.8502 - val_loss: 0.7187 - val_binary_crossentropy: 0.7187 - val_accuracy: 0.7033\n",
      "Epoch 25/50\n",
      "37/37 [==============================] - 7s 183ms/step - loss: 0.5189 - binary_crossentropy: 0.3768 - accuracy: 0.8261 - val_loss: 0.6885 - val_binary_crossentropy: 0.6885 - val_accuracy: 0.7198\n",
      "Epoch 26/50\n",
      "37/37 [==============================] - 7s 183ms/step - loss: 0.5090 - binary_crossentropy: 0.4235 - accuracy: 0.8046 - val_loss: 0.7183 - val_binary_crossentropy: 0.7183 - val_accuracy: 0.7308\n",
      "Epoch 27/50\n",
      "37/37 [==============================] - 7s 183ms/step - loss: 0.4484 - binary_crossentropy: 0.3421 - accuracy: 0.8416 - val_loss: 0.7557 - val_binary_crossentropy: 0.7557 - val_accuracy: 0.7198\n",
      "Epoch 28/50\n",
      "37/37 [==============================] - 7s 183ms/step - loss: 0.3702 - binary_crossentropy: 0.2973 - accuracy: 0.8621 - val_loss: 0.7318 - val_binary_crossentropy: 0.7318 - val_accuracy: 0.7418\n",
      "Epoch 29/50\n",
      "37/37 [==============================] - 7s 184ms/step - loss: 0.3901 - binary_crossentropy: 0.3111 - accuracy: 0.8766 - val_loss: 0.7675 - val_binary_crossentropy: 0.7675 - val_accuracy: 0.7363\n",
      "Epoch 30/50\n",
      "37/37 [==============================] - 7s 183ms/step - loss: 0.3604 - binary_crossentropy: 0.2967 - accuracy: 0.8735 - val_loss: 0.7999 - val_binary_crossentropy: 0.7999 - val_accuracy: 0.7308\n",
      "Epoch 31/50\n",
      "37/37 [==============================] - 7s 183ms/step - loss: 0.3565 - binary_crossentropy: 0.2673 - accuracy: 0.8856 - val_loss: 0.7815 - val_binary_crossentropy: 0.7815 - val_accuracy: 0.7253\n",
      "Epoch 32/50\n",
      "37/37 [==============================] - 7s 183ms/step - loss: 0.2349 - binary_crossentropy: 0.1833 - accuracy: 0.9372 - val_loss: 0.8207 - val_binary_crossentropy: 0.8207 - val_accuracy: 0.7363\n",
      "Epoch 33/50\n",
      "37/37 [==============================] - 7s 182ms/step - loss: 0.2155 - binary_crossentropy: 0.1709 - accuracy: 0.9267 - val_loss: 0.8562 - val_binary_crossentropy: 0.8562 - val_accuracy: 0.7418\n",
      "Epoch 34/50\n",
      "37/37 [==============================] - 7s 182ms/step - loss: 0.2032 - binary_crossentropy: 0.1603 - accuracy: 0.9442 - val_loss: 0.8641 - val_binary_crossentropy: 0.8641 - val_accuracy: 0.7418\n",
      "Epoch 35/50\n",
      "37/37 [==============================] - 7s 183ms/step - loss: 0.2121 - binary_crossentropy: 0.1683 - accuracy: 0.9362 - val_loss: 1.0544 - val_binary_crossentropy: 1.0544 - val_accuracy: 0.7143\n",
      "Epoch 36/50\n",
      "37/37 [==============================] - 7s 182ms/step - loss: 0.2039 - binary_crossentropy: 0.1597 - accuracy: 0.9376 - val_loss: 0.9371 - val_binary_crossentropy: 0.9371 - val_accuracy: 0.7473\n",
      "Epoch 37/50\n",
      "37/37 [==============================] - 7s 183ms/step - loss: 0.1610 - binary_crossentropy: 0.1142 - accuracy: 0.9631 - val_loss: 1.1571 - val_binary_crossentropy: 1.1571 - val_accuracy: 0.7033\n",
      "Epoch 38/50\n",
      "37/37 [==============================] - 7s 182ms/step - loss: 0.1511 - binary_crossentropy: 0.1272 - accuracy: 0.9527 - val_loss: 1.0680 - val_binary_crossentropy: 1.0680 - val_accuracy: 0.7473\n",
      "Epoch 39/50\n",
      "37/37 [==============================] - 7s 182ms/step - loss: 0.1234 - binary_crossentropy: 0.0931 - accuracy: 0.9823 - val_loss: 1.0879 - val_binary_crossentropy: 1.0879 - val_accuracy: 0.7527\n",
      "Epoch 40/50\n"
     ]
    },
    {
     "name": "stdout",
     "output_type": "stream",
     "text": [
      "37/37 [==============================] - 7s 182ms/step - loss: 0.0859 - binary_crossentropy: 0.0676 - accuracy: 0.9825 - val_loss: 1.1047 - val_binary_crossentropy: 1.1047 - val_accuracy: 0.7418\n",
      "Epoch 41/50\n",
      "37/37 [==============================] - 7s 182ms/step - loss: 0.0783 - binary_crossentropy: 0.0590 - accuracy: 0.9903 - val_loss: 1.1886 - val_binary_crossentropy: 1.1886 - val_accuracy: 0.7582\n",
      "Epoch 42/50\n",
      "37/37 [==============================] - 7s 182ms/step - loss: 0.0482 - binary_crossentropy: 0.0379 - accuracy: 0.9894 - val_loss: 1.1643 - val_binary_crossentropy: 1.1643 - val_accuracy: 0.7363\n",
      "Epoch 43/50\n",
      "37/37 [==============================] - 7s 182ms/step - loss: 0.0393 - binary_crossentropy: 0.0305 - accuracy: 0.9995 - val_loss: 1.1582 - val_binary_crossentropy: 1.1582 - val_accuracy: 0.7692\n",
      "Epoch 44/50\n",
      "37/37 [==============================] - 7s 182ms/step - loss: 0.0377 - binary_crossentropy: 0.0265 - accuracy: 1.0000 - val_loss: 1.2324 - val_binary_crossentropy: 1.2324 - val_accuracy: 0.7582\n",
      "Epoch 45/50\n",
      "37/37 [==============================] - 7s 182ms/step - loss: 0.0209 - binary_crossentropy: 0.0156 - accuracy: 0.9983 - val_loss: 1.3060 - val_binary_crossentropy: 1.3060 - val_accuracy: 0.7582\n",
      "Epoch 46/50\n",
      "37/37 [==============================] - 7s 182ms/step - loss: 0.0194 - binary_crossentropy: 0.0145 - accuracy: 1.0000 - val_loss: 1.3165 - val_binary_crossentropy: 1.3165 - val_accuracy: 0.7692\n",
      "Epoch 47/50\n",
      "37/37 [==============================] - 7s 182ms/step - loss: 0.0147 - binary_crossentropy: 0.0111 - accuracy: 1.0000 - val_loss: 1.3780 - val_binary_crossentropy: 1.3780 - val_accuracy: 0.7637\n",
      "Epoch 48/50\n",
      "37/37 [==============================] - 7s 182ms/step - loss: 0.0136 - binary_crossentropy: 0.0102 - accuracy: 1.0000 - val_loss: 1.4284 - val_binary_crossentropy: 1.4284 - val_accuracy: 0.7692\n",
      "Epoch 49/50\n",
      "37/37 [==============================] - 7s 182ms/step - loss: 0.0168 - binary_crossentropy: 0.0120 - accuracy: 1.0000 - val_loss: 1.4093 - val_binary_crossentropy: 1.4093 - val_accuracy: 0.7637\n",
      "Epoch 50/50\n",
      "37/37 [==============================] - 7s 182ms/step - loss: 0.0147 - binary_crossentropy: 0.0116 - accuracy: 1.0000 - val_loss: 1.4692 - val_binary_crossentropy: 1.4692 - val_accuracy: 0.7747\n",
      "Wall time: 6min 6s\n"
     ]
    }
   ],
   "source": [
    "%%time\n",
    "\n",
    "history = model.fit(\n",
    "    X_train, \n",
    "    y_train, \n",
    "    epochs=EPOCHS, \n",
    "    batch_size=BATCH_SIZE, \n",
    "    shuffle=True, \n",
    "    class_weight={True:2, False:1},\n",
    "    validation_data=(X_test, y_test)\n",
    ")"
   ]
  },
  {
   "cell_type": "code",
   "execution_count": 19,
   "metadata": {},
   "outputs": [
    {
     "data": {
      "text/plain": [
       "array([[0.99999964],\n",
       "       [0.9999939 ],\n",
       "       [0.00731309]], dtype=float32)"
      ]
     },
     "execution_count": 19,
     "metadata": {},
     "output_type": "execute_result"
    }
   ],
   "source": [
    "pred = model.predict(X_test)\n",
    "pred[:3]"
   ]
  },
  {
   "cell_type": "code",
   "execution_count": 20,
   "metadata": {},
   "outputs": [
    {
     "data": {
      "text/plain": [
       "array([ True,  True,  True])"
      ]
     },
     "execution_count": 20,
     "metadata": {},
     "output_type": "execute_result"
    }
   ],
   "source": [
    "y_test[:3]"
   ]
  },
  {
   "cell_type": "code",
   "execution_count": 21,
   "metadata": {},
   "outputs": [],
   "source": [
    "pred_boolean = [i[0]>=0.5 for i in pred]"
   ]
  },
  {
   "cell_type": "code",
   "execution_count": 22,
   "metadata": {
    "scrolled": true
   },
   "outputs": [
    {
     "name": "stdout",
     "output_type": "stream",
     "text": [
      "              precision    recall  f1-score   support\n",
      "\n",
      "       False       0.66      0.65      0.66        60\n",
      "        True       0.83      0.84      0.83       122\n",
      "\n",
      "    accuracy                           0.77       182\n",
      "   macro avg       0.75      0.74      0.74       182\n",
      "weighted avg       0.77      0.77      0.77       182\n",
      "\n"
     ]
    }
   ],
   "source": [
    "from sklearn.metrics import classification_report\n",
    "\n",
    "print(classification_report(y_test, pred_boolean))"
   ]
  },
  {
   "cell_type": "code",
   "execution_count": 23,
   "metadata": {},
   "outputs": [],
   "source": [
    "import matplotlib.pyplot as plt\n",
    "\n",
    "def plot_beautiful(x, y, *args):\n",
    "\n",
    "    fig, ax = plt.subplots()\n",
    "    ax.plot(x, y, color=\"g\", label=1)\n",
    "    \n",
    "    for i,y in enumerate(args):\n",
    "        ax.plot(x, y, label=i+2)\n",
    "    \n",
    "    ax.set_ylabel(\"metric\")\n",
    "    ax.set_xlabel(\"epoch\")\n",
    "    \n",
    "    fig.set_figwidth(20)\n",
    "    fig.set_figheight(10)\n",
    "\n",
    "    ax.set_facecolor('seashell')\n",
    "    fig.set_facecolor('floralwhite')\n",
    "    \n",
    "    plt.legend()\n",
    "    \n",
    "    plt.show()"
   ]
  },
  {
   "cell_type": "code",
   "execution_count": 24,
   "metadata": {},
   "outputs": [
    {
     "data": {
      "image/png": "[encoded data removed]",
      "text/plain": [
       "<Figure size 1440x720 with 1 Axes>"
      ]
     },
     "metadata": {},
     "output_type": "display_data"
    }
   ],
   "source": [
    "plot_beautiful(np.arange(len(history.history[\"loss\"]))+1,history.history[\"loss\"], history.history[\"val_loss\"])"
   ]
  },
  {
   "cell_type": "code",
   "execution_count": 25,
   "metadata": {},
   "outputs": [
    {
     "data": {
      "image/png": "[encoded data removed]",
      "text/plain": [
       "<Figure size 1440x720 with 1 Axes>"
      ]
     },
     "metadata": {},
     "output_type": "display_data"
    }
   ],
   "source": [
    "plot_beautiful(np.arange(len(history.history[\"accuracy\"]))+1,history.history[\"accuracy\"], history.history[\"val_accuracy\"])"
   ]
  },
  {
   "cell_type": "code",
   "execution_count": null,
   "metadata": {},
   "outputs": [],
   "source": []
  }
 ],
 "metadata": {
  "kernelspec": {
   "display_name": "Python 3",
   "language": "python",
   "name": "python3"
  },
  "language_info": {
   "codemirror_mode": {
    "name": "ipython",
    "version": 3
   },
   "file_extension": ".py",
   "mimetype": "text/x-python",
   "name": "python",
   "nbconvert_exporter": "python",
   "pygments_lexer": "ipython3",
   "version": "3.8.5"
  }
 },
 "nbformat": 4,
 "nbformat_minor": 4
}
